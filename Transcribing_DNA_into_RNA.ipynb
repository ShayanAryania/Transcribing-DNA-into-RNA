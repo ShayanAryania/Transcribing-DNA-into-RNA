{
 "cells": [
  {
   "cell_type": "markdown",
   "metadata": {},
   "source": [
    "#### ***Problem***"
   ]
  },
  {
   "cell_type": "markdown",
   "metadata": {},
   "source": [
    "An RNA string is a string formed from the alphabet containing 'A', 'C', 'G', and 'U'.\n",
    "\n",
    "Given a DNA string t corresponding to a coding strand, its transcribed RNA string u is formed by replacing all occurrences of 'T' in t with 'U' in u.\n",
    "\n",
    "Given: A DNA string t having length at most 1000 nt.\n",
    "\n",
    "Return: The transcribed RNA string of t."
   ]
  },
  {
   "cell_type": "markdown",
   "metadata": {},
   "source": [
    "#### ***Sample Dataset***"
   ]
  },
  {
   "cell_type": "markdown",
   "metadata": {},
   "source": [
    "GATGGAACTTGACTACGTAAATT"
   ]
  },
  {
   "cell_type": "markdown",
   "metadata": {},
   "source": [
    "#### ***Sample Output***"
   ]
  },
  {
   "cell_type": "markdown",
   "metadata": {},
   "source": [
    "GAUGGAACUUGACUACGUAAAUU"
   ]
  },
  {
   "cell_type": "markdown",
   "metadata": {},
   "source": [
    "# Code"
   ]
  },
  {
   "cell_type": "markdown",
   "metadata": {},
   "source": [
    "#### Functions"
   ]
  },
  {
   "cell_type": "code",
   "execution_count": 2,
   "metadata": {},
   "outputs": [],
   "source": [
    "def DNA_to_RNA(dna):\n",
    "    '''Translates the given DNA sequence to an RNA sequence.'''\n",
    "    return dna.replace(\"T\", \"U\")\n"
   ]
  },
  {
   "cell_type": "markdown",
   "metadata": {},
   "source": [
    "#### Importing the file"
   ]
  },
  {
   "cell_type": "code",
   "execution_count": 5,
   "metadata": {},
   "outputs": [],
   "source": [
    "    with open('/Users/shayanaryania/Desktop/University/Rosalind/2_Transcribing_DNA_into_RNA/rosalind_rna.txt') as input_data:\n",
    "        DNA = input_data.read().strip()"
   ]
  },
  {
   "cell_type": "code",
   "execution_count": 6,
   "metadata": {},
   "outputs": [],
   "source": [
    "RNA = DNA_to_RNA(DNA)"
   ]
  },
  {
   "cell_type": "markdown",
   "metadata": {},
   "source": [
    "#### Printing the output"
   ]
  },
  {
   "cell_type": "code",
   "execution_count": 7,
   "metadata": {},
   "outputs": [
    {
     "name": "stdout",
     "output_type": "stream",
     "text": [
      "CCCCAAAGGUCUGUCGGUCAAUACCGGUCUAAAGAGCGAGGUACCCACUAAAGGUGAGUCGUGAUCUGUAGGAAUCGUGGUACUACGCCUAGAGGACGUAGUGGUCUGAGCGCGCCUGAUCGGUUAAUCUGGCUAUUUGUGGGAUAAUUUAGUGCAAAUUAGACGUUAAGAGGACGAUUAGCUAGUACCCGCCCUCGUCACGAGAACCUGGCGAACCUGCAUCAAUCUCCUGUCCGACGGAUCUUUUUGUUUCGGGAAGUUAGCGAACGGUACUAUCGUGGUCACCUUAGGAUCUGCAGAGGCACCAAGUAUUCCUCAUUGGACGAAGAGAACAAUCCCCGAAAGGCGCACAGAAGUUCAAAAAGAAUUCGUGGCGGGACCAUUACGUAUCAAAGUUAAUGUCUGCGCGGGCCCUAAGGCAUUCCAGCGGUUGAGUAAGAUCCGGUGGUGGGUGGCCCUAGAUGUGUAGUGAGUCGAAUAAGCAAGGUGCACCCCCAAUCCAGCUACCUUGGACGGACUACAGCCCCCAAAGCAGACGCUCACACCACGUACAUCAACCGGCAGCCAUUUACUUCCGCUCAGGCAGCGGCAUGAUCCCCCUAAGGCAAAAAUAGUAAUCUAACCCUAAAGACCGCCAAUUUCGAAUAUUUUGGGAUUGGGACGGAUCGCUCACAACCAGAGUACUAUUGCUACCUCGUUCCUACAAUUUUCGACUGGCACGUGUAUCACCCCGCGGGACGGGUCUAGUAAGAACCAGCCUGCUCCGACCCGGUUCACACCACGGAUCGUGUCAGCCAAGUAACAGUCAGGCAUCCACAAUACAUAGCAUGUCCGCUAAUGUACCGGCUCAGCGACUUUUGUCUCGGCGCUGGGAGACUGGCAACACCCUAAACAGGCAGUCCAGUC\n"
     ]
    }
   ],
   "source": [
    "print(DNA_to_RNA(RNA))"
   ]
  },
  {
   "cell_type": "markdown",
   "metadata": {},
   "source": [
    "#### Exporting the output"
   ]
  },
  {
   "cell_type": "code",
   "execution_count": 10,
   "metadata": {},
   "outputs": [],
   "source": [
    "    with open('/Users/shayanaryania/Desktop/University/Rosalind/2_Transcribing_DNA_into_RNA/Transcribing_DNA_into_RNA.txt', 'w') as output_data:\n",
    "        output_data.write(RNA)"
   ]
  }
 ],
 "metadata": {
  "kernelspec": {
   "display_name": "Python 3",
   "language": "python",
   "name": "python3"
  },
  "language_info": {
   "codemirror_mode": {
    "name": "ipython",
    "version": 3
   },
   "file_extension": ".py",
   "mimetype": "text/x-python",
   "name": "python",
   "nbconvert_exporter": "python",
   "pygments_lexer": "ipython3",
   "version": "3.11.4"
  }
 },
 "nbformat": 4,
 "nbformat_minor": 2
}
